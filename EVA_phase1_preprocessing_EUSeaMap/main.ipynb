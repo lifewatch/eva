{
 "cells": [
  {
   "cell_type": "markdown",
   "id": "3078f344-a812-42b1-b1e2-90bfe4772bee",
   "metadata": {},
   "source": [
    "# Converting a polygon map to hexagons"
   ]
  },
  {
   "cell_type": "markdown",
   "id": "de844895-1c3c-4112-a369-fa9ddfa3793b",
   "metadata": {},
   "source": [
    "## About"
   ]
  },
  {
   "cell_type": "markdown",
   "id": "e472346e-9f87-46df-8e3f-78f635fd8bc0",
   "metadata": {},
   "source": [
    "- This script demonstrates the usage of hexagonizing function to convert a\n",
    "polygon map into hexagons. Additionally, the hexagons can be converted into\n",
    "center points.\n",
    "- Use case: the EUNIS map information needs to be translated to match the hexagons of the BBT analysis."
   ]
  },
  {
   "cell_type": "markdown",
   "id": "bf8759df-9858-4da0-aecb-c783b169da62",
   "metadata": {},
   "source": [
    "__author__ = \"Willem Boone\" <br>\n",
    "__email__ = \"willem.boone@vliz.be\""
   ]
  },
  {
   "cell_type": "markdown",
   "id": "8f4c2406-42f3-4832-addb-cf08a4c7d36e",
   "metadata": {},
   "source": [
    "## Imports"
   ]
  },
  {
   "cell_type": "code",
   "execution_count": 32,
   "id": "a3db85e5-d483-46dd-b739-db5540a0f285",
   "metadata": {},
   "outputs": [],
   "source": [
    "import geopandas as gpd\n",
    "import os\n",
    "from hexagonize import hexagonize_dominant\n",
    "from hexagonize import hexagonize_keep_all\n",
    "from hexagonize import hexagonize_density\n",
    "from hexagonize import to_centroids\n",
    "from pathlib import Path\n",
    "from pprint import pprint"
   ]
  },
  {
   "cell_type": "markdown",
   "id": "6f2a6a07-9adf-4349-862e-a1335d7c6de0",
   "metadata": {},
   "source": [
    "## Settings\n",
    "Add the path to following files:\n",
    "- map: the map you want to convert\n",
    "- hexagons: shapefile containing hexagons you need to convert the map to.\n",
    "- processing: a directory where to store results\n",
    "\n",
    "Notice: make sure the map and hexagon file have the same projection."
   ]
  },
  {
   "cell_type": "code",
   "execution_count": 33,
   "id": "3d628fd6-8fde-4502-afca-c400ede662ad",
   "metadata": {},
   "outputs": [],
   "source": [
    "map = \"EUSeaMap_2023.gdb\"\n",
    "hexagons = \"hexagon_grid/hexagon_grid.shp\"\n",
    "out_path = \"output_map_conversion\""
   ]
  },
  {
   "cell_type": "markdown",
   "id": "0208f8ac-1153-41db-a423-c64105028d88",
   "metadata": {},
   "source": [
    "Deduct map name and check output path."
   ]
  },
  {
   "cell_type": "code",
   "execution_count": 34,
   "id": "d37fe679-150f-4600-a64e-e3542c0ea52a",
   "metadata": {},
   "outputs": [],
   "source": [
    "map_name = Path(map).stem\n",
    "if not os.path.exists(out_path):\n",
    "    os.makedirs(out_path)"
   ]
  },
  {
   "cell_type": "markdown",
   "id": "23fd46ec-cbc9-4bfa-867e-490adcb90ec3",
   "metadata": {},
   "source": [
    "## Read data"
   ]
  },
  {
   "cell_type": "code",
   "execution_count": 35,
   "id": "6c45e3f9-2e48-4d97-9c31-34f3c20d09a2",
   "metadata": {},
   "outputs": [
    {
     "name": "stderr",
     "output_type": "stream",
     "text": [
      "C:\\Users\\willem.boone\\AppData\\Local\\Temp\\ipykernel_21024\\3580200146.py:3: UserWarning: Column names longer than 10 characters will be truncated when saved to ESRI Shapefile.\n",
      "  map_gdf.to_file(os.path.join(out_path, f\"clip_{map_name}.shp\"))\n"
     ]
    }
   ],
   "source": [
    "hexagon_gdf = gpd.read_file(hexagons)\n",
    "map_gdf = gpd.read_file(map, mask=hexagon_gdf)\n",
    "map_gdf.to_file(os.path.join(out_path, f\"clip_{map_name}.shp\"))"
   ]
  },
  {
   "cell_type": "markdown",
   "id": "81d9bb85-d321-4f43-9087-adc764f983ae",
   "metadata": {},
   "source": [
    "Inspect data"
   ]
  },
  {
   "cell_type": "code",
   "execution_count": 36,
   "id": "bb9514e6-4a1e-4df4-b7fd-fb120edb8941",
   "metadata": {},
   "outputs": [
    {
     "name": "stdout",
     "output_type": "stream",
     "text": [
      "Index(['ModelCode', 'Oxygen', 'Salinity', 'Energy', 'Biozone', 'Substrate',\n",
      "       'EUNIScomb', 'EUNIScombD', 'Allcomb', 'AllcombD', 'SalcombD',\n",
      "       'MSFD_BBHT', 'EUNIS2019C', 'EUNIS2019D', 'All2019D', 'All2019DL2',\n",
      "       'RegionalD', 'Val_comm', 'Shape_Length', 'Shape_Area', 'geometry'],\n",
      "      dtype='object')\n"
     ]
    }
   ],
   "source": [
    "print(map_gdf.columns)"
   ]
  },
  {
   "cell_type": "code",
   "execution_count": 37,
   "id": "e0c1047a-cfc7-424b-9811-33156e2a91ef",
   "metadata": {},
   "outputs": [
    {
     "name": "stdout",
     "output_type": "stream",
     "text": [
      "Index(['FID', 'geometry'], dtype='object')\n"
     ]
    }
   ],
   "source": [
    "print(hexagon_gdf.columns)"
   ]
  },
  {
   "cell_type": "markdown",
   "id": "91449266-c389-42f2-b2c4-ec4620369a30",
   "metadata": {},
   "source": [
    "The map will be clipped to extend of the hexagons, the clipped data can be saved:"
   ]
  },
  {
   "cell_type": "code",
   "execution_count": 38,
   "id": "e879bfec-b3c0-4deb-98a5-1110c1015b03",
   "metadata": {},
   "outputs": [
    {
     "name": "stderr",
     "output_type": "stream",
     "text": [
      "C:\\Users\\willem.boone\\AppData\\Local\\Temp\\ipykernel_21024\\1286735209.py:1: UserWarning: Column names longer than 10 characters will be truncated when saved to ESRI Shapefile.\n",
      "  map_gdf.to_file(os.path.join(out_path, f\"clip_{map_name}.shp\"))\n"
     ]
    }
   ],
   "source": [
    "map_gdf.to_file(os.path.join(out_path, f\"clip_{map_name}.shp\"))"
   ]
  },
  {
   "cell_type": "markdown",
   "id": "31775129-93c5-4d2a-b1eb-0cf617d774a7",
   "metadata": {},
   "source": [
    "## Processing"
   ]
  },
  {
   "cell_type": "markdown",
   "id": "3beadfdf-f9e1-4c8e-9f42-305f895ff703",
   "metadata": {},
   "source": [
    "Convert your map to hexagons.\n",
    "\n",
    "#### Method 1: dominance [hexagonize_dominant]\n",
    "Convert a spatial map into a map of hexagons: an overlay is made between the original map and the hexagons. In this overlay, several classes of the original map can occur within a single hexagon. The dominant class in terms of area within this hexagon (i.e. the class with the largest presence) will be assigned to the resulting hexagon map.\n",
    "\n",
    "#### Method 2: keep all & duplicate [hexagonize_keep_all]\n",
    "Convert a spatial map into a map of hexagons: a spatial join is made between the original map and the hexagons. When several classes of the original map occur within a single hexagon, this will result in multiple records having the same geometry but holding different attributes from the original map.\n",
    "\n",
    "#### Method 3: keep all & duplicate [hexagonize_density]\n",
    "Convert a spatial map into a map of hexagons: Convert a spatial map into a map of hexagons: a spatial overlay is made between the original map and the hexagons. When several classes of the original map occur within a single hexagon, this will result in multiple records having the same geometry but holding different attributes from the original map. Furthermore, a column density contains the proportion of the original class in a particular hexagon. For area computations, all data will be reprojected to a projected crs default 32631. The output will be delivere once again in the hexagon crs.\n"
   ]
  },
  {
   "cell_type": "code",
   "execution_count": 39,
   "id": "bce25206-a2f7-4fbe-ab93-e29d8d3d76d4",
   "metadata": {},
   "outputs": [
    {
     "name": "stderr",
     "output_type": "stream",
     "text": [
      "C:\\Users\\willem.boone\\Documents\\projects\\MARBEFES\\EVA\\test\\pythonProject\\hexagonize.py:69: UserWarning: Geometry is in a geographic CRS. Results from 'area' are likely incorrect. Use 'GeoSeries.to_crs()' to re-project geometries to a projected CRS before this operation.\n",
      "\n",
      "  hexagon_gdf[\"hexagon_area\"] = hexagon_gdf.area\n",
      "C:\\Users\\willem.boone\\Documents\\projects\\MARBEFES\\EVA\\test\\pythonProject\\hexagonize.py:77: UserWarning: Geometry is in a geographic CRS. Results from 'area' are likely incorrect. Use 'GeoSeries.to_crs()' to re-project geometries to a projected CRS before this operation.\n",
      "\n",
      "  overlay[\"v_map_area\"] = overlay.area\n"
     ]
    }
   ],
   "source": [
    "map_processed = hexagonize_density(map_gdf=map_gdf, hexagon_gdf=hexagon_gdf)"
   ]
  },
  {
   "cell_type": "code",
   "execution_count": 40,
   "id": "0028cfa1-9d95-4aff-a592-2a86fae7aed9",
   "metadata": {},
   "outputs": [
    {
     "name": "stdout",
     "output_type": "stream",
     "text": [
      "Index(['FID', 'hexagon_area', 'geometry', 'ModelCode', 'Oxygen', 'Salinity',\n",
      "       'Energy', 'Biozone', 'Substrate', 'EUNIScomb', 'EUNIScombD', 'Allcomb',\n",
      "       'AllcombD', 'SalcombD', 'MSFD_BBHT', 'EUNIS2019C', 'EUNIS2019D',\n",
      "       'All2019D', 'All2019DL2', 'RegionalD', 'Val_comm', 'Shape_Length',\n",
      "       'Shape_Area', 'Density'],\n",
      "      dtype='object')\n"
     ]
    }
   ],
   "source": [
    "print(map_processed.columns)"
   ]
  },
  {
   "cell_type": "code",
   "execution_count": 41,
   "id": "70b3edb6-5b52-40a7-a4ff-76b3255f3b6d",
   "metadata": {},
   "outputs": [
    {
     "name": "stdout",
     "output_type": "stream",
     "text": [
      "<class 'geopandas.geodataframe.GeoDataFrame'>\n"
     ]
    }
   ],
   "source": [
    "print(type(map_processed))"
   ]
  },
  {
   "cell_type": "code",
   "execution_count": 42,
   "id": "f97c28c9-d061-46b7-a1ee-4c83be41baf6",
   "metadata": {},
   "outputs": [
    {
     "name": "stdout",
     "output_type": "stream",
     "text": [
      "Hexagong 0 contains 0.11% of MSFD_BBHT: Infralittoral sand\n",
      "Hexagong 0 contains 0.11% of MSFD_BBHT: Offshore circalittoral sand\n",
      "Hexagong 0 contains 0.11% of MSFD_BBHT: Offshore circalittoral sand\n",
      "Hexagong 0 contains 0.0% of MSFD_BBHT: Offshore circalittoral sand\n",
      "Hexagong 0 contains 0.11% of MSFD_BBHT: Circalittoral sand\n",
      "Hexagong 0 contains 16.21% of MSFD_BBHT: Circalittoral sand\n",
      "Hexagong 0 contains 5.43% of MSFD_BBHT: Offshore circalittoral sand\n",
      "Hexagong 0 contains 0.07% of MSFD_BBHT: Offshore circalittoral sand\n",
      "Hexagong 0 contains 2.08% of MSFD_BBHT: Circalittoral coarse sediment\n",
      "Hexagong 0 contains 0.01% of MSFD_BBHT: Circalittoral coarse sediment\n",
      "Hexagong 0 contains 75.78% of MSFD_BBHT: Offshore circalittoral coarse sediment\n",
      "Hexagong 1 contains 1.16% of MSFD_BBHT: Infralittoral sand\n",
      "Hexagong 1 contains 4.18% of MSFD_BBHT: Infralittoral sand\n",
      "Hexagong 1 contains 0.0% of MSFD_BBHT: Infralittoral sand\n",
      "Hexagong 1 contains 5.68% of MSFD_BBHT: Circalittoral sand\n",
      "Hexagong 1 contains 4.36% of MSFD_BBHT: Circalittoral sand\n",
      "Hexagong 1 contains 7.52% of MSFD_BBHT: Circalittoral sand\n",
      "Hexagong 1 contains 0.17% of MSFD_BBHT: Offshore circalittoral sand\n",
      "Hexagong 1 contains 0.36% of MSFD_BBHT: Offshore circalittoral sand\n",
      "Hexagong 1 contains 0.02% of MSFD_BBHT: Offshore circalittoral sand\n",
      "Hexagong 1 contains 1.51% of MSFD_BBHT: Offshore circalittoral sand\n",
      "Hexagong 1 contains 0.11% of MSFD_BBHT: Offshore circalittoral coarse sediment\n",
      "Hexagong 1 contains 0.73% of MSFD_BBHT: Circalittoral coarse sediment\n",
      "Hexagong 1 contains 0.07% of MSFD_BBHT: Circalittoral coarse sediment\n",
      "Hexagong 1 contains 0.02% of MSFD_BBHT: Circalittoral coarse sediment\n",
      "Hexagong 1 contains 4.71% of MSFD_BBHT: Circalittoral coarse sediment\n",
      "Hexagong 1 contains 0.01% of MSFD_BBHT: Circalittoral coarse sediment\n",
      "Hexagong 1 contains 0.0% of MSFD_BBHT: Circalittoral coarse sediment\n",
      "Hexagong 1 contains 19.81% of MSFD_BBHT: Offshore circalittoral coarse sediment\n",
      "Hexagong 1 contains 9.11% of MSFD_BBHT: Offshore circalittoral coarse sediment\n",
      "Hexagong 1 contains 40.49% of MSFD_BBHT: Offshore circalittoral coarse sediment\n",
      "Hexagong 2 contains 100.0% of MSFD_BBHT: Offshore circalittoral coarse sediment\n",
      "Hexagong 3 contains 14.22% of MSFD_BBHT: Offshore circalittoral sand\n",
      "Hexagong 3 contains 85.78% of MSFD_BBHT: Offshore circalittoral coarse sediment\n",
      "Hexagong 4 contains 100.0% of MSFD_BBHT: Offshore circalittoral coarse sediment\n",
      "Hexagong 5 contains 0.1% of MSFD_BBHT: Offshore circalittoral sand\n",
      "Hexagong 5 contains 0.53% of MSFD_BBHT: Circalittoral sand\n",
      "Hexagong 5 contains 0.05% of MSFD_BBHT: Circalittoral sand\n",
      "Hexagong 5 contains 0.09% of MSFD_BBHT: Offshore circalittoral sand\n",
      "Hexagong 5 contains 0.0% of MSFD_BBHT: Circalittoral sand\n",
      "Hexagong 5 contains 0.11% of MSFD_BBHT: Offshore circalittoral sand\n",
      "Hexagong 5 contains 0.11% of MSFD_BBHT: Circalittoral sand\n",
      "Hexagong 5 contains 0.11% of MSFD_BBHT: Circalittoral sand\n",
      "Hexagong 5 contains 0.11% of MSFD_BBHT: Circalittoral sand\n",
      "Hexagong 5 contains 0.11% of MSFD_BBHT: Circalittoral sand\n",
      "Hexagong 5 contains 0.11% of MSFD_BBHT: Circalittoral sand\n",
      "Hexagong 5 contains 11.86% of MSFD_BBHT: Circalittoral sand\n",
      "Hexagong 5 contains 6.23% of MSFD_BBHT: Offshore circalittoral sand\n",
      "Hexagong 5 contains 0.03% of MSFD_BBHT: Offshore circalittoral sand\n",
      "Hexagong 5 contains 0.77% of MSFD_BBHT: Offshore circalittoral sand\n",
      "Hexagong 5 contains 0.11% of MSFD_BBHT: Circalittoral coarse sediment\n",
      "Hexagong 5 contains 0.1% of MSFD_BBHT: Circalittoral coarse sediment\n",
      "Hexagong 5 contains 0.11% of MSFD_BBHT: Circalittoral coarse sediment\n",
      "Hexagong 5 contains 0.11% of MSFD_BBHT: Circalittoral coarse sediment\n",
      "Hexagong 5 contains 0.11% of MSFD_BBHT: Circalittoral coarse sediment\n",
      "Hexagong 5 contains 0.11% of MSFD_BBHT: Circalittoral coarse sediment\n",
      "Hexagong 5 contains 0.11% of MSFD_BBHT: Circalittoral coarse sediment\n",
      "Hexagong 5 contains 1.35% of MSFD_BBHT: Circalittoral coarse sediment\n",
      "Hexagong 5 contains 0.05% of MSFD_BBHT: Circalittoral coarse sediment\n",
      "Hexagong 5 contains 77.58% of MSFD_BBHT: Offshore circalittoral coarse sediment\n",
      "Hexagong 6 contains 0.04% of MSFD_BBHT: Circalittoral sand\n",
      "Hexagong 6 contains 0.01% of MSFD_BBHT: Circalittoral sand\n",
      "Hexagong 6 contains 0.03% of MSFD_BBHT: Circalittoral sand\n",
      "Hexagong 6 contains 0.04% of MSFD_BBHT: Circalittoral sand\n",
      "Hexagong 6 contains 12.92% of MSFD_BBHT: Offshore circalittoral sand\n",
      "Hexagong 6 contains 0.01% of MSFD_BBHT: Offshore circalittoral sand\n",
      "Hexagong 6 contains 2.37% of MSFD_BBHT: Offshore circalittoral mixed sediment\n",
      "Hexagong 6 contains 0.01% of MSFD_BBHT: Circalittoral coarse sediment\n",
      "Hexagong 6 contains 0.0% of MSFD_BBHT: Circalittoral coarse sediment\n",
      "Hexagong 6 contains 0.07% of MSFD_BBHT: Circalittoral coarse sediment\n",
      "Hexagong 6 contains 0.07% of MSFD_BBHT: Circalittoral coarse sediment\n",
      "Hexagong 6 contains 84.43% of MSFD_BBHT: Offshore circalittoral coarse sediment\n",
      "Hexagong 7 contains 100.0% of MSFD_BBHT: Offshore circalittoral coarse sediment\n",
      "Hexagong 8 contains 100.0% of MSFD_BBHT: Offshore circalittoral coarse sediment\n",
      "Hexagong 9 contains 100.0% of MSFD_BBHT: Offshore circalittoral coarse sediment\n",
      "Hexagong 10 contains 15.37% of MSFD_BBHT: Offshore circalittoral sand\n",
      "Hexagong 10 contains 84.63% of MSFD_BBHT: Offshore circalittoral coarse sediment\n",
      "Hexagong 11 contains 0.17% of MSFD_BBHT: Infralittoral sand\n",
      "Hexagong 11 contains 0.11% of MSFD_BBHT: Infralittoral sand\n",
      "Hexagong 11 contains 1.19% of MSFD_BBHT: Circalittoral sand\n",
      "Hexagong 11 contains 28.89% of MSFD_BBHT: Offshore circalittoral mixed sediment\n",
      "Hexagong 11 contains 2.74% of MSFD_BBHT: Circalittoral coarse sediment\n",
      "Hexagong 11 contains 66.08% of MSFD_BBHT: Offshore circalittoral coarse sediment\n",
      "Hexagong 11 contains 0.82% of MSFD_BBHT: Offshore circalittoral coarse sediment\n",
      "Hexagong 12 contains 0.1% of MSFD_BBHT: Offshore circalittoral sand\n",
      "Hexagong 12 contains 0.03% of MSFD_BBHT: Infralittoral sand\n",
      "Hexagong 12 contains 0.11% of MSFD_BBHT: Infralittoral sand\n",
      "Hexagong 12 contains 0.07% of MSFD_BBHT: Circalittoral sand\n",
      "Hexagong 12 contains 0.09% of MSFD_BBHT: Infralittoral sand\n",
      "Hexagong 12 contains 0.01% of MSFD_BBHT: Infralittoral sand\n",
      "Hexagong 12 contains 0.12% of MSFD_BBHT: Infralittoral sand\n",
      "Hexagong 12 contains 2.93% of MSFD_BBHT: Infralittoral sand\n",
      "Hexagong 12 contains 0.0% of MSFD_BBHT: Circalittoral sand\n",
      "Hexagong 12 contains 5.4% of MSFD_BBHT: Circalittoral sand\n",
      "Hexagong 12 contains 0.3% of MSFD_BBHT: Circalittoral sand\n",
      "Hexagong 12 contains 0.13% of MSFD_BBHT: Circalittoral sand\n",
      "Hexagong 12 contains 0.05% of MSFD_BBHT: Circalittoral sand\n",
      "Hexagong 12 contains 5.46% of MSFD_BBHT: Circalittoral sand\n",
      "Hexagong 12 contains 0.33% of MSFD_BBHT: Offshore circalittoral sand\n",
      "Hexagong 12 contains 0.01% of MSFD_BBHT: Offshore circalittoral sand\n"
     ]
    }
   ],
   "source": [
    "for item in map_processed.head(100).itertuples():\n",
    "    print(f\"Hexagong {item.FID} contains {round(item.Density*100, 2)}% of MSFD_BBHT: {item.MSFD_BBHT}\")"
   ]
  },
  {
   "cell_type": "markdown",
   "id": "5f43906d-cc5d-41af-b9cb-a3eb329bbaae",
   "metadata": {},
   "source": [
    "Since the EVA analysis uses points, the hexagons can be converted to their centroid geometry."
   ]
  },
  {
   "cell_type": "code",
   "execution_count": 43,
   "id": "2c951433-b0c3-471f-911a-7475db5f6376",
   "metadata": {},
   "outputs": [
    {
     "name": "stderr",
     "output_type": "stream",
     "text": [
      "C:\\Users\\willem.boone\\Documents\\projects\\MARBEFES\\EVA\\test\\pythonProject\\hexagonize.py:102: UserWarning: Geometry is in a geographic CRS. Results from 'centroid' are likely incorrect. Use 'GeoSeries.to_crs()' to re-project geometries to a projected CRS before this operation.\n",
      "\n",
      "  gdf['geometry'] = gdf.geometry.centroid\n"
     ]
    }
   ],
   "source": [
    "map_processed = to_centroids(map_processed)"
   ]
  },
  {
   "cell_type": "code",
   "execution_count": 44,
   "id": "173a5b16-70da-4954-a3b5-4279817f4f30",
   "metadata": {},
   "outputs": [
    {
     "name": "stdout",
     "output_type": "stream",
     "text": [
      "<class 'geopandas.geodataframe.GeoDataFrame'>\n"
     ]
    }
   ],
   "source": [
    "print(type(map_processed))"
   ]
  },
  {
   "cell_type": "markdown",
   "id": "93a5fd75-5c81-459e-bd58-696124de8559",
   "metadata": {},
   "source": [
    "## Post processing"
   ]
  },
  {
   "cell_type": "markdown",
   "id": "be830972-e3cd-49fa-821a-0582d6fc51a7",
   "metadata": {},
   "source": [
    "EVA analysis requires some additional fields which will be added in the code below."
   ]
  },
  {
   "cell_type": "code",
   "execution_count": 45,
   "id": "878817fe-cca3-42c4-867a-3983220f44b7",
   "metadata": {},
   "outputs": [],
   "source": [
    "map_processed[\"EventDate\"] = \"\"\n",
    "map_processed[\"FieldNumber\"] = \"\"\n",
    "map_processed[\"ScientificName\"] = map_name"
   ]
  },
  {
   "cell_type": "markdown",
   "id": "bf03b15d-8fdc-49cb-a2cf-e11fd2158e40",
   "metadata": {},
   "source": [
    "## Save results"
   ]
  },
  {
   "cell_type": "code",
   "execution_count": 46,
   "id": "f591e89e-0878-4152-91d3-8854f54032d7",
   "metadata": {},
   "outputs": [
    {
     "name": "stderr",
     "output_type": "stream",
     "text": [
      "C:\\Users\\willem.boone\\AppData\\Local\\Temp\\ipykernel_21024\\191313916.py:4: UserWarning: Column names longer than 10 characters will be truncated when saved to ESRI Shapefile.\n",
      "  map_processed.to_file(dest)\n"
     ]
    }
   ],
   "source": [
    "dest = os.path.join(out_path, f\"{map_name}_hexagon_centroids.csv\")\n",
    "map_processed.to_csv(dest)\n",
    "dest = os.path.join(out_path, f\"{map_name}_hexagon_centroids.shp\")\n",
    "map_processed.to_file(dest)"
   ]
  }
 ],
 "metadata": {
  "kernelspec": {
   "display_name": "Python 3 (ipykernel)",
   "language": "python",
   "name": "python3"
  },
  "language_info": {
   "codemirror_mode": {
    "name": "ipython",
    "version": 3
   },
   "file_extension": ".py",
   "mimetype": "text/x-python",
   "name": "python",
   "nbconvert_exporter": "python",
   "pygments_lexer": "ipython3",
   "version": "3.12.1"
  }
 },
 "nbformat": 4,
 "nbformat_minor": 5
}
